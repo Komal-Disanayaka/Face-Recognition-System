{
 "cells": [
  {
   "cell_type": "code",
   "execution_count": 1,
   "id": "0995aa46-c793-4ee8-a69b-9d777c917065",
   "metadata": {},
   "outputs": [],
   "source": [
    "import numpy as np\n",
    "\n",
    "data=np.load('data.npy')\n",
    "target=np.load('target.npy')#hadhagaththu data set eka load karagannava"
   ]
  },
  {
   "cell_type": "code",
   "execution_count": null,
   "id": "0887334e-3cc6-44a8-85da-3310c2448a9f",
   "metadata": {},
   "outputs": [],
   "source": []
  }
 ],
 "metadata": {
  "kernelspec": {
   "display_name": "Python 3 (ipykernel)",
   "language": "python",
   "name": "python3"
  },
  "language_info": {
   "codemirror_mode": {
    "name": "ipython",
    "version": 3
   },
   "file_extension": ".py",
   "mimetype": "text/x-python",
   "name": "python",
   "nbconvert_exporter": "python",
   "pygments_lexer": "ipython3",
   "version": "3.12.7"
  }
 },
 "nbformat": 4,
 "nbformat_minor": 5
}
