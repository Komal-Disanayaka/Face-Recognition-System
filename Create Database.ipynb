{
 "cells": [
  {
   "cell_type": "code",
   "execution_count": 5,
   "id": "ba3a3c53-ea78-4191-92b3-b6eaf7ba712a",
   "metadata": {},
   "outputs": [],
   "source": [
    "# Load Image 1 by 1\n",
    "# Convert to gray scale\n",
    "# Face Detection and Crop the face \n",
    "# 50 x 50 resize\n",
    "# flatten 2500\n",
    "# Append the Dataset"
   ]
  },
  {
   "cell_type": "code",
   "execution_count": 4,
   "id": "dc3ccb7f-99ca-4e1f-9f67-e753b3e23a54",
   "metadata": {},
   "outputs": [
    {
     "name": "stdout",
     "output_type": "stream",
     "text": [
      "['Barack Obama', 'Donald Trump', 'George W Bush']\n",
      "[0 1 2]\n",
      "{'Barack Obama': 0, 'Donald Trump': 1, 'George W Bush': 2}\n"
     ]
    }
   ],
   "source": [
    "import os # Computer eke file ekak athula siyalu files detected karagena add karagannava\n",
    "import numpy as np #feture numpy array ekak athulata dhagannava\n",
    "\n",
    "data_path=r'train_data_2' # data thiyena folder eka select karanava\n",
    "\n",
    "labels=os.listdir(data_path) # path eke thiyena foloder tika gannava\n",
    "categories=np.arange(len(labels)) # lable number tika np array ekakata gannava\n",
    "category_dict=dict(zip(labels,categories)) # ehatha dhekama dicshanari ekakata dhagannava \n",
    "\n",
    "print(labels)\n",
    "print(categories)\n",
    "print(category_dict)"
   ]
  },
  {
   "cell_type": "code",
   "execution_count": null,
   "id": "32778dd6-d9b9-4547-9a19-16b3dbcbaeca",
   "metadata": {},
   "outputs": [
    {
     "name": "stdout",
     "output_type": "stream",
     "text": [
      "If you accept this croped face press y or else n:\n",
      "If you accept this croped face press y or else n:\n",
      "If you accept this croped face press y or else n:\n",
      "If you accept this croped face press y or else n:\n",
      "If you accept this croped face press y or else n:\n",
      "If you accept this croped face press y or else n:\n",
      "If you accept this croped face press y or else n:\n",
      "If you accept this croped face press y or else n:\n",
      "If you accept this croped face press y or else n:\n",
      "If you accept this croped face press y or else n:\n"
     ]
    }
   ],
   "source": [
    "import cv2 #open cv module eka picture samaga vada kirimata yodha gannava\n",
    "\n",
    "face_classifier=cv2.CascadeClassifier('haarcascade_frontalface_default.xml')# cascade file eka load karagannava\n",
    "\n",
    "data = []\n",
    "target = []\n",
    "\n",
    "for label in labels:# label thunama ganna for loop ekak dhanva\n",
    "    \n",
    "    imgs_path=os.path.join(data_path,label)# lable file thunata adhala location folders gannava\n",
    "    img_names=os.listdir(imgs_path)# files 3 ekin eka aragena evaye picture tika gannava\n",
    "    #print(imgs_path)\n",
    "    #print(img_names)\n",
    "\n",
    "    for img_name in img_names: # siyalu image valata adhala location tika ganiy\n",
    "    \n",
    "        img_path=os.path.join(imgs_path,img_name) # code eka thiyana thana idhan image ekin eka gena path eka gannava\n",
    "        #print(img_path) \n",
    "        img = cv2.imread(img_path)# adhala path vala thiyena img tika read kirima karay\n",
    "        \n",
    "        gray=cv2.cvtColor(img,cv2.COLOR_BGR2GRAY) # face tika gray karay\n",
    "        faces=face_classifier.detectMultiScale(gray) # face tika ditected kara ganima karay\n",
    "\n",
    "        \n",
    "\n",
    "        for (x,y,w,h) in faces:#image ekaka thiyena face gaana faces vey,face gaanata anuva display kirima karay\n",
    "\n",
    "                #cv2.rectangle(img,(x,y),(x+w,y+h),(0,255,0),2)#image vala face eka line kara penvay\n",
    "                cropped_face=gray[y:y+h,x:x+w]\n",
    "                cv2.imshow('Images',cropped_face)\n",
    "            \n",
    "                print(\"If you accept this croped face press y or else n:\")# face nam y press naththan n press\n",
    "\n",
    "                k = cv2.waitKey(0)\n",
    "\n",
    "                if( k == 121):\n",
    "                    cropped_face=cv2.resize(cropped_face,(50,50))#face eka reshape karay\n",
    "                    data.append(cropped_face) # crouped karapu face tika dhagannava\n",
    "                    target.append(category_dict[label]) # dict ekata gaththu lable number tika dhaanava\n",
    "        #cv2.imshow('Images',cropped_face) # pasuva window ekaka img tika display karay\n",
    "        #k = cv2.waitKey(100) # eka img ekakata 100ms delay ekakin penvay\n",
    "        #if(k == 27):\n",
    "            #break #27 esc ekee ascii value eka\n",
    "cv2.destroyAllwindows() #key ekak press kala vita off vey         \n",
    "\n",
    "            "
   ]
  },
  {
   "cell_type": "code",
   "execution_count": null,
   "id": "3a0a5a10-3f8c-4ff4-8d77-56dbb9b794c3",
   "metadata": {},
   "outputs": [],
   "source": [
    "\n",
    "data=np.array(data)\n",
    "target=np.array(target)\n",
    "\n",
    "print(data.shape)# 50x50 faces thiyana gaana vatenava 50x50 2d lesa labenava\n",
    "print(target.shape) # output valata adhala target tika vatenava\n",
    "\n",
    "data=data.reshape(data.shape[0],data.shape[1]*data.shape[2])# 0 kiyanne thiyana data gana 1 ha 2 50x50 (faces,2500)\n",
    "print(\"After 1D\",data.shape)"
   ]
  },
  {
   "cell_type": "code",
   "execution_count": null,
   "id": "ed181578-e4c3-4c26-80a7-b1682168c7ca",
   "metadata": {},
   "outputs": [],
   "source": [
    "np.save('data',data) # picture valin hadhagaththa data tikay target tikay save karagannava\n",
    "np.save('target',target)"
   ]
  },
  {
   "cell_type": "code",
   "execution_count": null,
   "id": "55840585-3299-4e10-94b5-488789d82ce1",
   "metadata": {},
   "outputs": [],
   "source": [
    "import collections\n",
    "print(collections.Counter(target)) # adhala lable 3 facecs ekin eka kiyak thibedha balay"
   ]
  },
  {
   "cell_type": "code",
   "execution_count": null,
   "id": "73cf2018-23fd-44cb-96c6-59770c6106c0",
   "metadata": {},
   "outputs": [],
   "source": []
  }
 ],
 "metadata": {
  "kernelspec": {
   "display_name": "Python 3 (ipykernel)",
   "language": "python",
   "name": "python3"
  },
  "language_info": {
   "codemirror_mode": {
    "name": "ipython",
    "version": 3
   },
   "file_extension": ".py",
   "mimetype": "text/x-python",
   "name": "python",
   "nbconvert_exporter": "python",
   "pygments_lexer": "ipython3",
   "version": "3.12.7"
  }
 },
 "nbformat": 4,
 "nbformat_minor": 5
}
