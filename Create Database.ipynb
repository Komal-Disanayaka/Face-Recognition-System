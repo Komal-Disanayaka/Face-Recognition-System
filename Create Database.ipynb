{
 "cells": [
  {
   "cell_type": "code",
   "execution_count": 1,
   "id": "ba3a3c53-ea78-4191-92b3-b6eaf7ba712a",
   "metadata": {},
   "outputs": [],
   "source": [
    "# Load Image 1 by 1\n",
    "# Convert to gray scale\n",
    "# Face Detection and Crop the face \n",
    "# 50 x 50 resize\n",
    "# flatten 2500\n",
    "# Append the Dataset"
   ]
  },
  {
   "cell_type": "code",
   "execution_count": 2,
   "id": "dc3ccb7f-99ca-4e1f-9f67-e753b3e23a54",
   "metadata": {},
   "outputs": [
    {
     "name": "stdout",
     "output_type": "stream",
     "text": [
      "['Barack Obama', 'Donald Trump', 'George W Bush']\n",
      "[0 1 2]\n",
      "{'Barack Obama': 0, 'Donald Trump': 1, 'George W Bush': 2}\n"
     ]
    }
   ],
   "source": [
    "import os # Computer eke file ekak athula siyalu files detected karagena add karagannava\n",
    "import numpy as np #feture numpy array ekak athulata dhagannava\n",
    "\n",
    "data_path=r'train_data_2' # data thiyena folder eka select karanava\n",
    "\n",
    "labels=os.listdir(data_path) # path eke thiyena foloder tika gannava\n",
    "categories=np.arange(len(labels)) # lable number tika np array ekakata gannava\n",
    "category_dict=dict(zip(labels,categories)) # ehatha dhekama dicshanari ekakata dhagannava \n",
    "\n",
    "print(labels)\n",
    "print(categories)\n",
    "print(category_dict)"
   ]
  },
  {
   "cell_type": "code",
   "execution_count": null,
   "id": "32778dd6-d9b9-4547-9a19-16b3dbcbaeca",
   "metadata": {},
   "outputs": [],
   "source": [
    "import cv2 #open cv module eka picture samaga vada kirimata yodha gannava\n",
    "\n",
    "face_classifier=cv2.CascadeClassifier('haarcascade_frontalface_default.xml')# cascade file eka load karagannava\n",
    "\n",
    "for label in labels:# label thunama ganna for loop ekak dhanva\n",
    "    \n",
    "    imgs_path=os.path.join(data_path,label)# lable file thunata adhala location folders gannava\n",
    "    img_names=os.listdir(imgs_path)# files 3 ekin eka aragena evaye picture tika gannava\n",
    "    #print(imgs_path)\n",
    "    #print(img_names)\n",
    "\n",
    "    for img_name in img_names: # siyalu image valata adhala location tika ganiy\n",
    "    \n",
    "        img_path=os.path.join(imgs_path,img_name) # code eka thiyana thana idhan image ekin eka gena path eka gannava\n",
    "        #print(img_path) \n",
    "        img = cv2.imread(img_path)# adhala path vala thiyena img tika read kirima karay\n",
    "        \n",
    "        gray=cv2.cvtColor(img,cv2.COLOR_BGR2GRAY) # face tika gray karay\n",
    "        faces=face_classifier.detectMultiScale(gray) # face tika ditected kara ganima karay\n",
    "\n",
    "        for (x,y,w,h) in faces:\n",
    "\n",
    "                cv2.rectangle(img,(x,y),(x+w,y+h),(0,255,0),2)#image vala face eka line kara penvay\n",
    "\n",
    "       \n",
    "        cv2.imshow('Images',img) # pasuva window ekaka img tika display karay\n",
    "        k = cv2.waitKey(100) # eka img ekakata 100ms delay ekakin penvay\n",
    "        if(k == 27):\n",
    "            break # picture 27 kin auto off vey\n",
    "cv2.destroyAllwindows() #key ekak press kala vita off vey           \n",
    "            "
   ]
  },
  {
   "cell_type": "code",
   "execution_count": null,
   "id": "3a0a5a10-3f8c-4ff4-8d77-56dbb9b794c3",
   "metadata": {},
   "outputs": [],
   "source": []
  }
 ],
 "metadata": {
  "kernelspec": {
   "display_name": "Python 3 (ipykernel)",
   "language": "python",
   "name": "python3"
  },
  "language_info": {
   "codemirror_mode": {
    "name": "ipython",
    "version": 3
   },
   "file_extension": ".py",
   "mimetype": "text/x-python",
   "name": "python",
   "nbconvert_exporter": "python",
   "pygments_lexer": "ipython3",
   "version": "3.12.7"
  }
 },
 "nbformat": 4,
 "nbformat_minor": 5
}
