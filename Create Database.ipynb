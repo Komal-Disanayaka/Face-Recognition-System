{
 "cells": [
  {
   "cell_type": "code",
   "execution_count": null,
   "id": "ba3a3c53-ea78-4191-92b3-b6eaf7ba712a",
   "metadata": {},
   "outputs": [],
   "source": [
    "# Load Image 1 by 1\n",
    "# Convert to gray scale\n",
    "# Face Detection and Crop the face \n",
    "# 50 x 50 resize\n",
    "# flatten 2500\n",
    "# Append the Dataset\n",
    "\n"
   ]
  }
 ],
 "metadata": {
  "kernelspec": {
   "display_name": "Python 3 (ipykernel)",
   "language": "python",
   "name": "python3"
  },
  "language_info": {
   "codemirror_mode": {
    "name": "ipython",
    "version": 3
   },
   "file_extension": ".py",
   "mimetype": "text/x-python",
   "name": "python",
   "nbconvert_exporter": "python",
   "pygments_lexer": "ipython3",
   "version": "3.12.7"
  }
 },
 "nbformat": 4,
 "nbformat_minor": 5
}
